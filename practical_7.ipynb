{
 "cells": [
  {
   "cell_type": "code",
   "execution_count": 2,
   "id": "9254c4f4-80c2-4bf5-bb6f-aec9c8d5f1ec",
   "metadata": {},
   "outputs": [
    {
     "name": "stdout",
     "output_type": "stream",
     "text": [
      "Frequent itemsets:\n",
      "('butter',): 0.80\n",
      "('milk',): 0.60\n",
      "('bread',): 0.80\n",
      "('bread', 'butter'): 0.60\n"
     ]
    }
   ],
   "source": [
    "from itertools import combinations\n",
    "\n",
    "def load_dataset():\n",
    "    return [\n",
    "        ['milk', 'bread', 'butter'],\n",
    "        ['bread', 'butter'],\n",
    "        ['milk', 'bread'],\n",
    "        ['milk', 'butter'],\n",
    "        ['bread', 'butter'],\n",
    "    ]\n",
    "\n",
    "def get_frequent_itemsets(dataset, min_support):\n",
    "    item_counts = {}\n",
    "    for transaction in dataset:\n",
    "        for item in transaction:\n",
    "            item_counts[item] = item_counts.get(item, 0) + 1\n",
    "\n",
    "    num_transactions = len(dataset)\n",
    "    frequent_items = {\n",
    "        (item,): count / num_transactions\n",
    "        for item, count in item_counts.items()\n",
    "        if count / num_transactions >= min_support\n",
    "    }\n",
    "    return frequent_items\n",
    "\n",
    "def has_infrequent_subset(candidate, prev_freq_itemsets):\n",
    "    k = len(candidate)\n",
    "    subsets = list(combinations(candidate, k - 1))\n",
    "    return any(tuple(sorted(sub)) not in prev_freq_itemsets for sub in subsets)\n",
    "\n",
    "def generate_candidates(prev_freq_itemsets, k):\n",
    "    candidates = []\n",
    "    items = list(prev_freq_itemsets.keys())\n",
    "    for i in range(len(items)):\n",
    "        for j in range(i + 1, len(items)):\n",
    "            l1 = list(items[i])\n",
    "            l2 = list(items[j])\n",
    "            l1.sort()\n",
    "            l2.sort()\n",
    "            if l1[:k - 2] == l2[:k - 2]:\n",
    "                candidate = tuple(sorted(set(l1) | set(l2)))\n",
    "                if not has_infrequent_subset(candidate, prev_freq_itemsets):\n",
    "                    candidates.append(candidate)\n",
    "    return candidates\n",
    "\n",
    "def apriori(dataset, min_support):\n",
    "    dataset = list(map(set, dataset))\n",
    "    freq_itemsets = {}\n",
    "\n",
    "    one_itemsets = get_frequent_itemsets(dataset, min_support)\n",
    "    freq_itemsets.update(one_itemsets)\n",
    "\n",
    "    k = 2\n",
    "    current_freq_itemsets = one_itemsets\n",
    "\n",
    "    while current_freq_itemsets:\n",
    "        candidates = generate_candidates(current_freq_itemsets, k)\n",
    "        candidate_counts = {c: 0 for c in candidates}\n",
    "\n",
    "        for transaction in dataset:\n",
    "            for candidate in candidates:\n",
    "                if set(candidate).issubset(transaction):\n",
    "                    candidate_counts[candidate] += 1\n",
    "\n",
    "        num_transactions = len(dataset)\n",
    "        current_freq_itemsets = {\n",
    "            itemset: count / num_transactions\n",
    "            for itemset, count in candidate_counts.items()\n",
    "            if count / num_transactions >= min_support\n",
    "        }\n",
    "\n",
    "        freq_itemsets.update(current_freq_itemsets)\n",
    "        k += 1\n",
    "\n",
    "    return freq_itemsets\n",
    "\n",
    "# Example usage\n",
    "if __name__ == \"__main__\":\n",
    "    dataset = load_dataset()\n",
    "    min_support = 0.6\n",
    "    freq_itemsets = apriori(dataset, min_support)\n",
    "\n",
    "    print(\"Frequent itemsets:\")\n",
    "    for itemset, support in freq_itemsets.items():\n",
    "        print(f\"{itemset}: {support:.2f}\")\n"
   ]
  },
  {
   "cell_type": "code",
   "execution_count": null,
   "id": "b1835aa2-e739-4340-be81-223962d9a56d",
   "metadata": {},
   "outputs": [],
   "source": []
  }
 ],
 "metadata": {
  "kernelspec": {
   "display_name": "Python 3 (ipykernel)",
   "language": "python",
   "name": "python3"
  },
  "language_info": {
   "codemirror_mode": {
    "name": "ipython",
    "version": 3
   },
   "file_extension": ".py",
   "mimetype": "text/x-python",
   "name": "python",
   "nbconvert_exporter": "python",
   "pygments_lexer": "ipython3",
   "version": "3.12.6"
  },
  "widgets": {
   "application/vnd.jupyter.widget-state+json": {
    "state": {},
    "version_major": 2,
    "version_minor": 0
   }
  }
 },
 "nbformat": 4,
 "nbformat_minor": 5
}
